{
  "nbformat": 4,
  "nbformat_minor": 0,
  "metadata": {
    "colab": {
      "name": "chicago-reported-crime-data.ipynb",
      "provenance": [],
      "collapsed_sections": []
    },
    "kernelspec": {
      "name": "python3",
      "display_name": "Python 3"
    },
    "language_info": {
      "name": "python"
    }
  },
  "cells": [
    {
      "cell_type": "markdown",
      "metadata": {
        "id": "Hch0O8LBpcVV"
      },
      "source": [
        "# Install Apache Spark 3\n",
        "Open the google colab notebook and use below set of commands to install Java 8, download and unzip Apache Spark 3.0.0 and install findpyspark. It shoudl take only few minutes depending on your connection speed."
      ]
    },
    {
      "cell_type": "code",
      "metadata": {
        "colab": {
          "base_uri": "https://localhost:8080/"
        },
        "id": "l4gIt8twe94i",
        "outputId": "d1081a91-245a-4c62-f86c-d14f7643ddb2"
      },
      "source": [
        "!apt-get update\n",
        "\n",
        "# install Java8\n",
        "!apt-get install openjdk-8-jdk-headless -qq > /dev/null\n",
        "# download spark3.0.0\n",
        "!wget -q https://apache.mediamirrors.org/spark/spark-3.1.1/spark-3.1.1-bin-hadoop2.7.tgz\n",
        "# unzip it\n",
        "!tar xf spark-3.1.1-bin-hadoop2.7.tgz\n",
        "# install findspark \n",
        "!pip install -q findspark\n",
        "\n",
        "!ls -alh"
      ],
      "execution_count": 2,
      "outputs": [
        {
          "output_type": "stream",
          "text": [
            "\r0% [Working]\r            \rGet:1 http://security.ubuntu.com/ubuntu bionic-security InRelease [88.7 kB]\n",
            "\r0% [Connecting to archive.ubuntu.com (91.189.88.142)] [1 InRelease 14.2 kB/88.7\r0% [Waiting for headers] [Waiting for headers] [Waiting for headers] [Waiting f\r                                                                               \rGet:2 https://cloud.r-project.org/bin/linux/ubuntu bionic-cran40/ InRelease [3,626 B]\n",
            "\r                                                                               \r0% [Waiting for headers] [Waiting for headers] [Waiting for headers]\r0% [1 InRelease gpgv 88.7 kB] [Waiting for headers] [Waiting for headers] [Wait\r                                                                               \rIgn:3 https://developer.download.nvidia.com/compute/cuda/repos/ubuntu1804/x86_64  InRelease\n",
            "\r                                                                               \r0% [1 InRelease gpgv 88.7 kB] [Waiting for headers] [Waiting for headers]\r                                                                         \rHit:4 http://archive.ubuntu.com/ubuntu bionic InRelease\n",
            "\r0% [1 InRelease gpgv 88.7 kB] [Waiting for headers] [Waiting for headers] [Wait\r                                                                               \rGet:5 http://ppa.launchpad.net/c2d4u.team/c2d4u4.0+/ubuntu bionic InRelease [15.9 kB]\n",
            "\r0% [1 InRelease gpgv 88.7 kB] [Waiting for headers] [5 InRelease 2,572 B/15.9 k\r                                                                               \rIgn:6 https://developer.download.nvidia.com/compute/machine-learning/repos/ubuntu1804/x86_64  InRelease\n",
            "\r0% [1 InRelease gpgv 88.7 kB] [Waiting for headers] [5 InRelease 8,364 B/15.9 k\r                                                                               \rGet:7 https://developer.download.nvidia.com/compute/cuda/repos/ubuntu1804/x86_64  Release [697 B]\n",
            "Hit:8 https://developer.download.nvidia.com/compute/machine-learning/repos/ubuntu1804/x86_64  Release\n",
            "Get:9 https://developer.download.nvidia.com/compute/cuda/repos/ubuntu1804/x86_64  Release.gpg [836 B]\n",
            "Get:10 http://archive.ubuntu.com/ubuntu bionic-updates InRelease [88.7 kB]\n",
            "Hit:11 http://ppa.launchpad.net/cran/libgit2/ubuntu bionic InRelease\n",
            "Get:12 http://security.ubuntu.com/ubuntu bionic-security/restricted amd64 Packages [399 kB]\n",
            "Get:13 http://archive.ubuntu.com/ubuntu bionic-backports InRelease [74.6 kB]\n",
            "Get:14 http://security.ubuntu.com/ubuntu bionic-security/multiverse amd64 Packages [24.7 kB]\n",
            "Get:15 http://security.ubuntu.com/ubuntu bionic-security/universe amd64 Packages [1,410 kB]\n",
            "Get:16 http://ppa.launchpad.net/deadsnakes/ppa/ubuntu bionic InRelease [15.9 kB]\n",
            "Get:17 http://security.ubuntu.com/ubuntu bionic-security/main amd64 Packages [2,119 kB]\n",
            "Get:18 https://cloud.r-project.org/bin/linux/ubuntu bionic-cran40/ Packages [53.9 kB]\n",
            "Get:19 http://ppa.launchpad.net/graphics-drivers/ppa/ubuntu bionic InRelease [15.9 kB]\n",
            "Ign:21 https://developer.download.nvidia.com/compute/cuda/repos/ubuntu1804/x86_64  Packages\n",
            "Get:21 https://developer.download.nvidia.com/compute/cuda/repos/ubuntu1804/x86_64  Packages [742 kB]\n",
            "Get:22 http://ppa.launchpad.net/c2d4u.team/c2d4u4.0+/ubuntu bionic/main Sources [1,759 kB]\n",
            "Get:23 http://archive.ubuntu.com/ubuntu bionic-updates/restricted amd64 Packages [429 kB]\n",
            "Get:24 http://archive.ubuntu.com/ubuntu bionic-updates/main amd64 Packages [2,550 kB]\n",
            "Get:25 http://ppa.launchpad.net/c2d4u.team/c2d4u4.0+/ubuntu bionic/main amd64 Packages [900 kB]\n",
            "Get:26 http://archive.ubuntu.com/ubuntu bionic-updates/multiverse amd64 Packages [31.6 kB]\n",
            "Get:27 http://archive.ubuntu.com/ubuntu bionic-updates/universe amd64 Packages [2,181 kB]\n",
            "Get:28 http://ppa.launchpad.net/deadsnakes/ppa/ubuntu bionic/main amd64 Packages [40.3 kB]\n",
            "Get:29 http://ppa.launchpad.net/graphics-drivers/ppa/ubuntu bionic/main amd64 Packages [53.2 kB]\n",
            "Fetched 13.0 MB in 4s (3,154 kB/s)\n",
            "Reading package lists... Done\n",
            "total 214M\n",
            "drwxr-xr-x  1 root root 4.0K May  4 08:31 .\n",
            "drwxr-xr-x  1 root root 4.0K May  4 08:28 ..\n",
            "drwxr-xr-x  4 root root 4.0K Apr 21 13:38 .config\n",
            "drwxr-xr-x  1 root root 4.0K Apr 21 13:39 sample_data\n",
            "drwxr-xr-x 13 1000 1000 4.0K Feb 22 02:44 spark-3.1.1-bin-hadoop2.7\n",
            "-rw-r--r--  1 root root 214M Feb 22 02:45 spark-3.1.1-bin-hadoop2.7.tgz\n"
          ],
          "name": "stdout"
        }
      ]
    },
    {
      "cell_type": "markdown",
      "metadata": {
        "id": "NMs041Ffp2lf"
      },
      "source": [
        "# Set Environment Variables\n",
        "Let's add relevant paths to the environment so you can manage multiple versions of spark by pointing to the correct version through environment variables."
      ]
    },
    {
      "cell_type": "code",
      "metadata": {
        "id": "MIoggpn7kXRw"
      },
      "source": [
        "import os\n",
        "os.environ[\"JAVA_HOME\"] = \"/usr/lib/jvm/java-8-openjdk-amd64\"\n",
        "os.environ[\"SPARK_HOME\"] = \"/content/spark-3.1.1-bin-hadoop2.7\""
      ],
      "execution_count": 3,
      "outputs": []
    },
    {
      "cell_type": "markdown",
      "metadata": {
        "id": "3ysHg60nqJNM"
      },
      "source": [
        "# Quick Installation Test\n",
        "Now it is time to test our spark installation and the version of it. We should be able to use Spark 3 version and pyspark."
      ]
    },
    {
      "cell_type": "code",
      "metadata": {
        "colab": {
          "base_uri": "https://localhost:8080/"
        },
        "id": "ttKoaFNDmFNA",
        "outputId": "9b2b181a-9b03-467b-a89d-771117ac48a6"
      },
      "source": [
        "import findspark\n",
        "findspark.init()\n",
        "from pyspark.sql import SparkSession\n",
        "\n",
        "\n",
        "spark = SparkSession.builder.master(\"local[*]\").getOrCreate()\n",
        "\n",
        "# Test the spark\n",
        "df_test = spark.createDataFrame([{\"hello\": \"world\"} for x in range(1000)])\n",
        "df_test.show(3, False)"
      ],
      "execution_count": 4,
      "outputs": [
        {
          "output_type": "stream",
          "text": [
            "+-----+\n",
            "|hello|\n",
            "+-----+\n",
            "|world|\n",
            "|world|\n",
            "|world|\n",
            "+-----+\n",
            "only showing top 3 rows\n",
            "\n"
          ],
          "name": "stdout"
        }
      ]
    },
    {
      "cell_type": "code",
      "metadata": {
        "colab": {
          "base_uri": "https://localhost:8080/",
          "height": 214
        },
        "id": "2C8tCoP0rcqp",
        "outputId": "93ed9fe1-2d33-46d1-b5ad-dc898ccd4bf7"
      },
      "source": [
        "spark"
      ],
      "execution_count": 5,
      "outputs": [
        {
          "output_type": "execute_result",
          "data": {
            "text/html": [
              "\n",
              "            <div>\n",
              "                <p><b>SparkSession - in-memory</b></p>\n",
              "                \n",
              "        <div>\n",
              "            <p><b>SparkContext</b></p>\n",
              "\n",
              "            <p><a href=\"http://20606903947a:4040\">Spark UI</a></p>\n",
              "\n",
              "            <dl>\n",
              "              <dt>Version</dt>\n",
              "                <dd><code>v3.1.1</code></dd>\n",
              "              <dt>Master</dt>\n",
              "                <dd><code>local[*]</code></dd>\n",
              "              <dt>AppName</dt>\n",
              "                <dd><code>pyspark-shell</code></dd>\n",
              "            </dl>\n",
              "        </div>\n",
              "        \n",
              "            </div>\n",
              "        "
            ],
            "text/plain": [
              "<pyspark.sql.session.SparkSession at 0x7ff14f3536d0>"
            ]
          },
          "metadata": {
            "tags": []
          },
          "execution_count": 5
        }
      ]
    },
    {
      "cell_type": "markdown",
      "metadata": {
        "id": "sxLOVvyaq-PP"
      },
      "source": [
        "credits for the installation process : https://medium.com/analytics-vidhya/getting-started-spark3-0-0-with-google-colab-9796d350d78"
      ]
    },
    {
      "cell_type": "markdown",
      "metadata": {
        "id": "IyzolvQNrhyx"
      },
      "source": [
        "# Download and Preprocess Chicago's Reported Crime Data"
      ]
    },
    {
      "cell_type": "code",
      "metadata": {
        "colab": {
          "base_uri": "https://localhost:8080/"
        },
        "id": "2FTP4WDqrK12",
        "outputId": "55eb5a13-c46b-4d26-927d-51ceb73af5bf"
      },
      "source": [
        "!wget https://data.cityofchicago.org/api/views/ijzp-q8t2/rows.csv?accessType=DOWNLOAD\n",
        "!ls -lah"
      ],
      "execution_count": 5,
      "outputs": [
        {
          "output_type": "stream",
          "text": [
            "--2021-05-04 08:32:05--  https://data.cityofchicago.org/api/views/ijzp-q8t2/rows.csv?accessType=DOWNLOAD\n",
            "Resolving data.cityofchicago.org (data.cityofchicago.org)... 52.206.140.205, 52.206.68.26, 52.206.140.199\n",
            "Connecting to data.cityofchicago.org (data.cityofchicago.org)|52.206.140.205|:443... connected.\n",
            "HTTP request sent, awaiting response... 200 OK\n",
            "Length: unspecified [text/csv]\n",
            "Saving to: ‘rows.csv?accessType=DOWNLOAD’\n",
            "\n",
            "rows.csv?accessType     [  <=>               ]   1.61G  3.14MB/s    in 8m 59s  \n",
            "\n",
            "2021-05-04 08:41:05 (3.05 MB/s) - ‘rows.csv?accessType=DOWNLOAD’ saved [1726397542]\n",
            "\n",
            "total 1.9G\n",
            "drwxr-xr-x  1 root root 4.0K May  4 08:32  .\n",
            "drwxr-xr-x  1 root root 4.0K May  4 08:28  ..\n",
            "drwxr-xr-x  4 root root 4.0K Apr 21 13:38  .config\n",
            "-rw-r--r--  1 root root 1.7G May  3 11:07 'rows.csv?accessType=DOWNLOAD'\n",
            "drwxr-xr-x  1 root root 4.0K Apr 21 13:39  sample_data\n",
            "drwxr-xr-x 13 1000 1000 4.0K Feb 22 02:44  spark-3.1.1-bin-hadoop2.7\n",
            "-rw-r--r--  1 root root 214M Feb 22 02:45  spark-3.1.1-bin-hadoop2.7.tgz\n"
          ],
          "name": "stdout"
        }
      ]
    },
    {
      "cell_type": "code",
      "metadata": {
        "id": "MZdMmMCHrKlR"
      },
      "source": [
        "!mv rows.csv?accessType=DOWNLOAD reported-crimes.csv"
      ],
      "execution_count": 8,
      "outputs": []
    },
    {
      "cell_type": "code",
      "metadata": {
        "colab": {
          "base_uri": "https://localhost:8080/"
        },
        "id": "_iCw2DHLu-v2",
        "outputId": "680673f2-b8c1-4ab1-bde3-49b754f53dfa"
      },
      "source": [
        "!ls -alh"
      ],
      "execution_count": 9,
      "outputs": [
        {
          "output_type": "stream",
          "text": [
            "total 1.9G\n",
            "drwxr-xr-x  1 root root 4.0K May  4 08:43 .\n",
            "drwxr-xr-x  1 root root 4.0K May  4 08:28 ..\n",
            "drwxr-xr-x  4 root root 4.0K Apr 21 13:38 .config\n",
            "-rw-r--r--  1 root root 1.7G May  3 11:07 reported-crimes.csv\n",
            "drwxr-xr-x  1 root root 4.0K Apr 21 13:39 sample_data\n",
            "drwxr-xr-x 13 1000 1000 4.0K Feb 22 02:44 spark-3.1.1-bin-hadoop2.7\n",
            "-rw-r--r--  1 root root 214M Feb 22 02:45 spark-3.1.1-bin-hadoop2.7.tgz\n"
          ],
          "name": "stdout"
        }
      ]
    },
    {
      "cell_type": "markdown",
      "metadata": {
        "id": "_9CZTMZA2V3A"
      },
      "source": [
        "https://data.cityofchicago.org/Public-Safety/Crimes-2001-to-Present/ijzp-q8t2\n",
        "\n",
        "https://chrispfchung.github.io/import%20data/pyspark-by-example/\n",
        "\n",
        "https://datascienceplus.com/spark-dataframes-exploring-chicago-crimes/\n",
        "\n",
        "https://github.com/ernest-kiwele/chicago-crime-analysis-apache-spark/blob/master/spark-ml/chicago-crime-data-on-spark.ipynb\n",
        "\n"
      ]
    },
    {
      "cell_type": "code",
      "metadata": {
        "colab": {
          "base_uri": "https://localhost:8080/"
        },
        "id": "aAlheF_CvC_F",
        "outputId": "44b9fafa-90cd-4019-9566-b77892ee239f"
      },
      "source": [
        "from pyspark.sql.functions import to_timestamp, lit, col\n",
        "\n",
        "rc = spark.read.csv('reported-crimes.csv', header=True)\\\n",
        "  .withColumn('Date', to_timestamp(col('Date'), 'MM/dd/yyyy hh:mm:ss a'))\\\n",
        "  .filter(col('Date') <= lit('2018-11-11'))\n",
        "rc.select('ID', 'Case Number', 'Date', 'Primary Type', 'Description').show(5)"
      ],
      "execution_count": 10,
      "outputs": [
        {
          "output_type": "stream",
          "text": [
            "+--------+-----------+-------------------+------------+--------------------+\n",
            "|      ID|Case Number|               Date|Primary Type|         Description|\n",
            "+--------+-----------+-------------------+------------+--------------------+\n",
            "|10224738|   HY411648|2015-09-05 13:30:00|     BATTERY|DOMESTIC BATTERY ...|\n",
            "|10224739|   HY411615|2015-09-04 11:30:00|       THEFT|      POCKET-PICKING|\n",
            "|11646166|   JC213529|2018-09-01 00:01:00|       THEFT|           OVER $500|\n",
            "|10224740|   HY411595|2015-09-05 12:45:00|   NARCOTICS|POSS: HEROIN(BRN/...|\n",
            "|10224741|   HY411610|2015-09-05 13:00:00|     ASSAULT|              SIMPLE|\n",
            "+--------+-----------+-------------------+------------+--------------------+\n",
            "only showing top 5 rows\n",
            "\n"
          ],
          "name": "stdout"
        }
      ]
    },
    {
      "cell_type": "markdown",
      "metadata": {
        "id": "SEAA12zvz0W0"
      },
      "source": [
        "# Schema\n",
        "in production, explicitely defining the schema is recommended"
      ]
    },
    {
      "cell_type": "code",
      "metadata": {
        "colab": {
          "base_uri": "https://localhost:8080/"
        },
        "id": "z1yb3EGdzZJC",
        "outputId": "079511d7-0707-4543-8a48-756dae94ad25"
      },
      "source": [
        "rc.printSchema()\n",
        "# or rc.dtypes"
      ],
      "execution_count": 11,
      "outputs": [
        {
          "output_type": "stream",
          "text": [
            "root\n",
            " |-- ID: string (nullable = true)\n",
            " |-- Case Number: string (nullable = true)\n",
            " |-- Date: timestamp (nullable = true)\n",
            " |-- Block: string (nullable = true)\n",
            " |-- IUCR: string (nullable = true)\n",
            " |-- Primary Type: string (nullable = true)\n",
            " |-- Description: string (nullable = true)\n",
            " |-- Location Description: string (nullable = true)\n",
            " |-- Arrest: string (nullable = true)\n",
            " |-- Domestic: string (nullable = true)\n",
            " |-- Beat: string (nullable = true)\n",
            " |-- District: string (nullable = true)\n",
            " |-- Ward: string (nullable = true)\n",
            " |-- Community Area: string (nullable = true)\n",
            " |-- FBI Code: string (nullable = true)\n",
            " |-- X Coordinate: string (nullable = true)\n",
            " |-- Y Coordinate: string (nullable = true)\n",
            " |-- Year: string (nullable = true)\n",
            " |-- Updated On: string (nullable = true)\n",
            " |-- Latitude: string (nullable = true)\n",
            " |-- Longitude: string (nullable = true)\n",
            " |-- Location: string (nullable = true)\n",
            "\n"
          ],
          "name": "stdout"
        }
      ]
    },
    {
      "cell_type": "code",
      "metadata": {
        "colab": {
          "base_uri": "https://localhost:8080/"
        },
        "id": "1_ehwADwzc0l",
        "outputId": "4355bfd8-6a1b-4985-ea1f-56a0dec7a809"
      },
      "source": [
        "from pyspark.sql.types import StructType, StructField, IntegerType, StringType, BooleanType, TimestampType, DoubleType\n",
        "\n",
        "# rc.columns\n",
        "labels = [\n",
        "        ('ID', StringType()),\n",
        "        ('Case Number', StringType()),\n",
        "        ('Date', TimestampType()),\n",
        "        ('Block', StringType()),\n",
        "        ('IUCR', StringType()),\n",
        "        ('Primary Type', StringType()),\n",
        "        ('Description', StringType()),\n",
        "        ('Location Description', StringType()),\n",
        "        ('Arrest', StringType()),\n",
        "        ('Domestic', BooleanType()),\n",
        "        ('Beat', StringType()),\n",
        "        ('District', StringType()),\n",
        "        ('Ward', StringType()),\n",
        "        ('Community Area', StringType()),\n",
        "        ('FBI Code', StringType()),\n",
        "        ('X Coordinate', StringType()),\n",
        "        ('Y Coordinate', StringType()),\n",
        "        ('Year', IntegerType()),\n",
        "        ('Updated On', StringType()),\n",
        "        ('Latitude', DoubleType()),\n",
        "        ('Longitude', DoubleType()),\n",
        "        ('Location', StringType())\n",
        "        ]\n",
        "     \n",
        "schema = StructType([ StructField (x[0], x[1], True) for x in labels]) \n",
        "schema"
      ],
      "execution_count": 12,
      "outputs": [
        {
          "output_type": "execute_result",
          "data": {
            "text/plain": [
              "StructType(List(StructField(ID,StringType,true),StructField(Case Number,StringType,true),StructField(Date,TimestampType,true),StructField(Block,StringType,true),StructField(IUCR,StringType,true),StructField(Primary Type,StringType,true),StructField(Description,StringType,true),StructField(Location Description,StringType,true),StructField(Arrest,StringType,true),StructField(Domestic,BooleanType,true),StructField(Beat,StringType,true),StructField(District,StringType,true),StructField(Ward,StringType,true),StructField(Community Area,StringType,true),StructField(FBI Code,StringType,true),StructField(X Coordinate,StringType,true),StructField(Y Coordinate,StringType,true),StructField(Year,IntegerType,true),StructField(Updated On,StringType,true),StructField(Latitude,DoubleType,true),StructField(Longitude,DoubleType,true),StructField(Location,StringType,true)))"
            ]
          },
          "metadata": {
            "tags": []
          },
          "execution_count": 12
        }
      ]
    },
    {
      "cell_type": "code",
      "metadata": {
        "colab": {
          "base_uri": "https://localhost:8080/"
        },
        "id": "LjL9Lm53zykJ",
        "outputId": "5ad012d2-8cdd-48b9-e352-cfdd1cef1517"
      },
      "source": [
        "rc_with_schema = spark.read.csv('reported-crimes.csv', schema=schema, header=True)\n",
        "rc_with_schema.select('Arrest', 'Domestic', 'Beat', 'District', 'Ward').show(5)"
      ],
      "execution_count": 14,
      "outputs": [
        {
          "output_type": "stream",
          "text": [
            "+------+--------+----+--------+----+\n",
            "|Arrest|Domestic|Beat|District|Ward|\n",
            "+------+--------+----+--------+----+\n",
            "| false|    true|0924|     009|  12|\n",
            "| false|   false|1511|     015|  29|\n",
            "| false|    true|0631|     006|   8|\n",
            "|  true|   false|1412|     014|  35|\n",
            "| false|    true|1522|     015|  28|\n",
            "+------+--------+----+--------+----+\n",
            "only showing top 5 rows\n",
            "\n"
          ],
          "name": "stdout"
        }
      ]
    },
    {
      "cell_type": "markdown",
      "metadata": {
        "id": "4rpzQJ1ePb29"
      },
      "source": [
        "# Manipulating columns "
      ]
    },
    {
      "cell_type": "code",
      "metadata": {
        "colab": {
          "base_uri": "https://localhost:8080/"
        },
        "id": "nkDrjnJz1TNb",
        "outputId": "e8fb42bd-d643-4437-89e9-28bf75eb1f94"
      },
      "source": [
        "rc.select('IUCR', 'ID', 'Case Number').show(2)"
      ],
      "execution_count": 15,
      "outputs": [
        {
          "output_type": "stream",
          "text": [
            "+----+--------+-----------+\n",
            "|IUCR|      ID|Case Number|\n",
            "+----+--------+-----------+\n",
            "|0486|10224738|   HY411648|\n",
            "|0870|10224739|   HY411615|\n",
            "+----+--------+-----------+\n",
            "only showing top 2 rows\n",
            "\n"
          ],
          "name": "stdout"
        }
      ]
    },
    {
      "cell_type": "code",
      "metadata": {
        "colab": {
          "base_uri": "https://localhost:8080/"
        },
        "id": "RhaeuWJTFPMS",
        "outputId": "7209103e-bf56-4fa0-9275-47c05a94f8b8"
      },
      "source": [
        "rc.select(rc.Description, rc.Arrest).show(2)"
      ],
      "execution_count": 16,
      "outputs": [
        {
          "output_type": "stream",
          "text": [
            "+--------------------+------+\n",
            "|         Description|Arrest|\n",
            "+--------------------+------+\n",
            "|DOMESTIC BATTERY ...| false|\n",
            "|      POCKET-PICKING| false|\n",
            "+--------------------+------+\n",
            "only showing top 2 rows\n",
            "\n"
          ],
          "name": "stdout"
        }
      ]
    },
    {
      "cell_type": "code",
      "metadata": {
        "colab": {
          "base_uri": "https://localhost:8080/"
        },
        "id": "bFtPoOMwFqcJ",
        "outputId": "ffab03fc-3c69-4d50-decf-851c78bc46b2"
      },
      "source": [
        "rc.select(col('Beat'), col('District')).show(2)"
      ],
      "execution_count": 17,
      "outputs": [
        {
          "output_type": "stream",
          "text": [
            "+----+--------+\n",
            "|Beat|District|\n",
            "+----+--------+\n",
            "|0924|     009|\n",
            "|1511|     015|\n",
            "+----+--------+\n",
            "only showing top 2 rows\n",
            "\n"
          ],
          "name": "stdout"
        }
      ]
    },
    {
      "cell_type": "markdown",
      "metadata": {
        "id": "PptG58o8QTwt"
      },
      "source": [
        "Add a column with name One, with entries all 1s"
      ]
    },
    {
      "cell_type": "code",
      "metadata": {
        "colab": {
          "base_uri": "https://localhost:8080/"
        },
        "id": "h7ar3pKHQBEs",
        "outputId": "7f679ebe-74bd-4f7a-8d94-c8d024609bbb"
      },
      "source": [
        "from pyspark.sql.functions import lit\n",
        "\n",
        "rc.withColumn('One', lit(1)).select('Description', 'Location Description', 'Arrest', 'Domestic', 'Beat', 'One').show(3)"
      ],
      "execution_count": 18,
      "outputs": [
        {
          "output_type": "stream",
          "text": [
            "+--------------------+--------------------+------+--------+----+---+\n",
            "|         Description|Location Description|Arrest|Domestic|Beat|One|\n",
            "+--------------------+--------------------+------+--------+----+---+\n",
            "|DOMESTIC BATTERY ...|           RESIDENCE| false|    true|0924|  1|\n",
            "|      POCKET-PICKING|             CTA BUS| false|   false|1511|  1|\n",
            "|           OVER $500|           RESIDENCE| false|    true|0631|  1|\n",
            "+--------------------+--------------------+------+--------+----+---+\n",
            "only showing top 3 rows\n",
            "\n"
          ],
          "name": "stdout"
        }
      ]
    },
    {
      "cell_type": "markdown",
      "metadata": {
        "id": "mINySC-VQ5MQ"
      },
      "source": [
        "Remove the column 'IUCR'"
      ]
    },
    {
      "cell_type": "code",
      "metadata": {
        "colab": {
          "base_uri": "https://localhost:8080/"
        },
        "id": "MkktRWzLQS8j",
        "outputId": "651d13d7-2180-4c74-d274-e8a0b09f0b63"
      },
      "source": [
        "rc = rc.drop('IUCR')\n",
        "'IUCR' in rc.columns"
      ],
      "execution_count": 19,
      "outputs": [
        {
          "output_type": "execute_result",
          "data": {
            "text/plain": [
              "False"
            ]
          },
          "metadata": {
            "tags": []
          },
          "execution_count": 19
        }
      ]
    },
    {
      "cell_type": "code",
      "metadata": {
        "colab": {
          "base_uri": "https://localhost:8080/"
        },
        "id": "0clcCB7bQS5d",
        "outputId": "ccc10ea8-3af2-4da0-9733-5afd01fd4df5"
      },
      "source": [
        "rc.select('Arrest').distinct().show()"
      ],
      "execution_count": 20,
      "outputs": [
        {
          "output_type": "stream",
          "text": [
            "+------+\n",
            "|Arrest|\n",
            "+------+\n",
            "| false|\n",
            "|  true|\n",
            "+------+\n",
            "\n"
          ],
          "name": "stdout"
        }
      ]
    },
    {
      "cell_type": "code",
      "metadata": {
        "colab": {
          "base_uri": "https://localhost:8080/"
        },
        "id": "jBBt2EeNQS1X",
        "outputId": "6ec4c7ff-84bd-4f7b-e9d1-47ebda482c20"
      },
      "source": [
        "rc.select('Arrest').distinct().count()"
      ],
      "execution_count": 21,
      "outputs": [
        {
          "output_type": "execute_result",
          "data": {
            "text/plain": [
              "2"
            ]
          },
          "metadata": {
            "tags": []
          },
          "execution_count": 21
        }
      ]
    },
    {
      "cell_type": "markdown",
      "metadata": {
        "id": "YgcUYvz9R4A6"
      },
      "source": [
        "# Working with rows\n",
        "\n",
        "Add the reported crimes for an additional day, 12-Nov-2018, to our dataset."
      ]
    },
    {
      "cell_type": "code",
      "metadata": {
        "colab": {
          "base_uri": "https://localhost:8080/"
        },
        "id": "e41LF6jIQSsD",
        "outputId": "47e4d056-d30f-4d11-fdb5-6297f977eef7"
      },
      "source": [
        "one_day = spark.read.csv('reported-crimes.csv', header=True)\\\n",
        "  .withColumn('Date', to_timestamp(col('Date'), 'MM/dd/yyyy hh:mm:ss a'))\\\n",
        "  .filter(col('Date') == lit('2018-11-12'))\n",
        "one_day.show()"
      ],
      "execution_count": 22,
      "outputs": [
        {
          "output_type": "stream",
          "text": [
            "+--------+-----------+-------------------+-------------------+----+------------------+--------------------+--------------------+------+--------+----+--------+----+--------------+--------+------------+------------+----+--------------------+------------+-------------+--------------------+\n",
            "|      ID|Case Number|               Date|              Block|IUCR|      Primary Type|         Description|Location Description|Arrest|Domestic|Beat|District|Ward|Community Area|FBI Code|X Coordinate|Y Coordinate|Year|          Updated On|    Latitude|    Longitude|            Location|\n",
            "+--------+-----------+-------------------+-------------------+----+------------------+--------------------+--------------------+------+--------+----+--------+----+--------------+--------+------------+------------+----+--------------------+------------+-------------+--------------------+\n",
            "|11505149|   JB513151|2018-11-12 00:00:00| 003XX S WHIPPLE ST|0810|             THEFT|           OVER $500|              STREET| false|   false|1124|     011|  28|            27|      06|     1156099|     1898319|2018|11/19/2018 04:22:...|41.876776356|-87.702317641|(41.876776356, -8...|\n",
            "|11516594|   JB528186|2018-11-12 00:00:00|049XX S PRAIRIE AVE|2826|     OTHER OFFENSE|HARASSMENT BY ELE...|               OTHER| false|   false|0224|     002|   3|            38|      26|     1178879|     1872259|2018|11/28/2018 04:14:...|41.804775828|-87.619472488|(41.804775828, -8...|\n",
            "|11540042|   JB559262|2018-11-12 00:00:00|010XX N DEARBORN ST|1140|DECEPTIVE PRACTICE|        EMBEZZLEMENT|   CONVENIENCE STORE|  true|   false|1824|     018|   2|             8|      12|     1175747|     1907348|2018|03/16/2019 04:01:...|41.901133376|-87.629904979|(41.901133376, -8...|\n",
            "+--------+-----------+-------------------+-------------------+----+------------------+--------------------+--------------------+------+--------+----+--------+----+--------------+--------+------------+------------+----+--------------------+------------+-------------+--------------------+\n",
            "\n"
          ],
          "name": "stdout"
        }
      ]
    },
    {
      "cell_type": "code",
      "metadata": {
        "colab": {
          "base_uri": "https://localhost:8080/"
        },
        "id": "y690XbtuSuJ2",
        "outputId": "4dd62337-35f1-4b30-9d41-30da85ad5b56"
      },
      "source": [
        "one_day.count(), rc.count()"
      ],
      "execution_count": 23,
      "outputs": [
        {
          "output_type": "execute_result",
          "data": {
            "text/plain": [
              "(3, 6754265)"
            ]
          },
          "metadata": {
            "tags": []
          },
          "execution_count": 23
        }
      ]
    },
    {
      "cell_type": "code",
      "metadata": {
        "colab": {
          "base_uri": "https://localhost:8080/"
        },
        "id": "8joUlwf4UksB",
        "outputId": "dc8d9682-8c4b-4961-f9f3-23dc68e0c444"
      },
      "source": [
        "[x for x in one_day.columns if x not in rc.columns]"
      ],
      "execution_count": 24,
      "outputs": [
        {
          "output_type": "execute_result",
          "data": {
            "text/plain": [
              "['IUCR']"
            ]
          },
          "metadata": {
            "tags": []
          },
          "execution_count": 24
        }
      ]
    },
    {
      "cell_type": "code",
      "metadata": {
        "colab": {
          "base_uri": "https://localhost:8080/"
        },
        "id": "jCqSUt-jUCQB",
        "outputId": "a79c5ddd-9c9a-4993-e20d-07aa1f905bea"
      },
      "source": [
        "rc.union(one_day.drop('IUCR')).orderBy('Date', ascending=False).show(5)"
      ],
      "execution_count": 25,
      "outputs": [
        {
          "output_type": "stream",
          "text": [
            "+--------+-----------+-------------------+-------------------+------------------+--------------------+--------------------+------+--------+----+--------+----+--------------+--------+------------+------------+----+--------------------+------------+-------------+--------------------+\n",
            "|      ID|Case Number|               Date|              Block|      Primary Type|         Description|Location Description|Arrest|Domestic|Beat|District|Ward|Community Area|FBI Code|X Coordinate|Y Coordinate|Year|          Updated On|    Latitude|    Longitude|            Location|\n",
            "+--------+-----------+-------------------+-------------------+------------------+--------------------+--------------------+------+--------+----+--------+----+--------------+--------+------------+------------+----+--------------------+------------+-------------+--------------------+\n",
            "|11505149|   JB513151|2018-11-12 00:00:00| 003XX S WHIPPLE ST|             THEFT|           OVER $500|              STREET| false|   false|1124|     011|  28|            27|      06|     1156099|     1898319|2018|11/19/2018 04:22:...|41.876776356|-87.702317641|(41.876776356, -8...|\n",
            "|11516594|   JB528186|2018-11-12 00:00:00|049XX S PRAIRIE AVE|     OTHER OFFENSE|HARASSMENT BY ELE...|               OTHER| false|   false|0224|     002|   3|            38|      26|     1178879|     1872259|2018|11/28/2018 04:14:...|41.804775828|-87.619472488|(41.804775828, -8...|\n",
            "|11540042|   JB559262|2018-11-12 00:00:00|010XX N DEARBORN ST|DECEPTIVE PRACTICE|        EMBEZZLEMENT|   CONVENIENCE STORE|  true|   false|1824|     018|   2|             8|      12|     1175747|     1907348|2018|03/16/2019 04:01:...|41.901133376|-87.629904979|(41.901133376, -8...|\n",
            "|11505581|   JB513620|2018-11-11 00:00:00| 049XX S KEELER AVE|           BATTERY|DOMESTIC BATTERY ...|           RESIDENCE| false|    true|0815|     008|  14|            57|     08B|     1149195|     1871583|2018|11/18/2018 04:11:...|41.803545745|-87.728358627|(41.803545745, -8...|\n",
            "|11507744|   JB516509|2018-11-11 00:00:00|  033XX S DAMEN AVE|             THEFT|      $500 AND UNDER|           RESIDENCE| false|   false|0912|     009|  12|            59|      06|     1163564|     1882504|2018|11/18/2018 04:11:...|41.833224596|-87.675353441|(41.833224596, -8...|\n",
            "+--------+-----------+-------------------+-------------------+------------------+--------------------+--------------------+------+--------+----+--------+----+--------------+--------+------------+------------+----+--------------------+------------+-------------+--------------------+\n",
            "only showing top 5 rows\n",
            "\n"
          ],
          "name": "stdout"
        }
      ]
    },
    {
      "cell_type": "markdown",
      "metadata": {
        "id": "snRbjAH1S2nG"
      },
      "source": [
        "What are the top 10 number of reported crimes by Primary type, in descending order of occurence ?"
      ]
    },
    {
      "cell_type": "code",
      "metadata": {
        "colab": {
          "base_uri": "https://localhost:8080/"
        },
        "id": "DL9KpZg8S_A_",
        "outputId": "4338f4fc-061e-409e-bb61-f8a3ac83bedd"
      },
      "source": [
        "rc.groupBy('Primary Type').count().orderBy('count', ascending=False).show(7)"
      ],
      "execution_count": 26,
      "outputs": [
        {
          "output_type": "stream",
          "text": [
            "+---------------+-------+\n",
            "|   Primary Type|  count|\n",
            "+---------------+-------+\n",
            "|          THEFT|1418452|\n",
            "|        BATTERY|1232244|\n",
            "|CRIMINAL DAMAGE| 771505|\n",
            "|      NARCOTICS| 711748|\n",
            "|  OTHER OFFENSE| 418868|\n",
            "|        ASSAULT| 418512|\n",
            "|       BURGLARY| 388036|\n",
            "+---------------+-------+\n",
            "only showing top 7 rows\n",
            "\n"
          ],
          "name": "stdout"
        }
      ]
    },
    {
      "cell_type": "markdown",
      "metadata": {
        "id": "s9guRerTfmEI"
      },
      "source": [
        "# First analysis"
      ]
    },
    {
      "cell_type": "markdown",
      "metadata": {
        "id": "7Bd2oJ7iWbXG"
      },
      "source": [
        "Find the percentage of reported crimes that results in an arrest"
      ]
    },
    {
      "cell_type": "code",
      "metadata": {
        "colab": {
          "base_uri": "https://localhost:8080/"
        },
        "id": "Ucs7Z8lgV2h6",
        "outputId": "2077189c-bb3c-4584-a1b2-a6fe7f536b71"
      },
      "source": [
        "rc.groupBy('Arrest').count().show()"
      ],
      "execution_count": 27,
      "outputs": [
        {
          "output_type": "stream",
          "text": [
            "+------+-------+\n",
            "|Arrest|  count|\n",
            "+------+-------+\n",
            "| false|4879662|\n",
            "|  true|1874603|\n",
            "+------+-------+\n",
            "\n"
          ],
          "name": "stdout"
        }
      ]
    },
    {
      "cell_type": "code",
      "metadata": {
        "colab": {
          "base_uri": "https://localhost:8080/"
        },
        "id": "t71t4_hsWh0i",
        "outputId": "b6246665-62fb-4362-bb4c-aa35bc907de2"
      },
      "source": [
        "nb_records, nb_arrests = rc.count(), rc.filter(col('Arrest') == 'true').count()\n",
        "print(f'Percentage of reported crimes that results in an arrest: {nb_arrests / nb_records * 100 :.2f}%')"
      ],
      "execution_count": 28,
      "outputs": [
        {
          "output_type": "stream",
          "text": [
            "Percentage of reported crimes that results in an arrest: 27.75%\n"
          ],
          "name": "stdout"
        }
      ]
    },
    {
      "cell_type": "markdown",
      "metadata": {
        "id": "-hLLpOOOWimi"
      },
      "source": [
        "Find the top 3 locations of reported crimes"
      ]
    },
    {
      "cell_type": "code",
      "metadata": {
        "colab": {
          "base_uri": "https://localhost:8080/"
        },
        "id": "BKD9WmRWWoNj",
        "outputId": "72af2bf9-206e-46be-ff3d-d30759a10208"
      },
      "source": [
        "rc.select('Description', 'Location Description', 'District', 'Ward', 'Community Area', 'X Coordinate', 'Y Coordinate', 'Longitude', 'Location').show(3)"
      ],
      "execution_count": 29,
      "outputs": [
        {
          "output_type": "stream",
          "text": [
            "+--------------------+--------------------+--------+----+--------------+------------+------------+-------------+--------------------+\n",
            "|         Description|Location Description|District|Ward|Community Area|X Coordinate|Y Coordinate|    Longitude|            Location|\n",
            "+--------------------+--------------------+--------+----+--------------+------------+------------+-------------+--------------------+\n",
            "|DOMESTIC BATTERY ...|           RESIDENCE|     009|  12|            61|     1165074|     1875917|-87.669999562|(41.815117282, -8...|\n",
            "|      POCKET-PICKING|             CTA BUS|     015|  29|            25|     1138875|     1904869|-87.765400451|(41.895080471, -8...|\n",
            "|           OVER $500|           RESIDENCE|     006|   8|            44|        null|        null|         null|                null|\n",
            "+--------------------+--------------------+--------+----+--------------+------------+------------+-------------+--------------------+\n",
            "only showing top 3 rows\n",
            "\n"
          ],
          "name": "stdout"
        }
      ]
    },
    {
      "cell_type": "code",
      "metadata": {
        "colab": {
          "base_uri": "https://localhost:8080/"
        },
        "id": "HMt4w_N8W9SK",
        "outputId": "8212924a-bf04-4277-a170-499392cdb2a5"
      },
      "source": [
        "rc.groupBy('Location Description').count().orderBy('count', ascending=False).limit(3).show()"
      ],
      "execution_count": 30,
      "outputs": [
        {
          "output_type": "stream",
          "text": [
            "+--------------------+-------+\n",
            "|Location Description|  count|\n",
            "+--------------------+-------+\n",
            "|              STREET|1770584|\n",
            "|           RESIDENCE|1145268|\n",
            "|           APARTMENT| 698503|\n",
            "+--------------------+-------+\n",
            "\n"
          ],
          "name": "stdout"
        }
      ]
    },
    {
      "cell_type": "markdown",
      "metadata": {
        "id": "e9keiBsHgO_W"
      },
      "source": [
        "# Built-in functions"
      ]
    },
    {
      "cell_type": "code",
      "metadata": {
        "colab": {
          "base_uri": "https://localhost:8080/"
        },
        "id": "5x4LjI6FfqFp",
        "outputId": "77420801-d3bc-4d55-961b-f4659d542c90"
      },
      "source": [
        "from pyspark.sql import functions \n",
        "print(dir(functions))"
      ],
      "execution_count": 31,
      "outputs": [
        {
          "output_type": "stream",
          "text": [
            "['Column', 'DataFrame', 'DataType', 'PandasUDFType', 'PythonEvalType', 'SparkContext', 'StringType', 'UserDefinedFunction', '__builtins__', '__cached__', '__doc__', '__file__', '__loader__', '__name__', '__package__', '__spec__', '_create_column_from_literal', '_create_lambda', '_create_udf', '_get_get_jvm_function', '_get_lambda_parameters', '_invoke_binary_math_function', '_invoke_function', '_invoke_function_over_column', '_invoke_higher_order_function', '_options_to_str', '_test', '_to_java_column', '_to_seq', '_unresolved_named_lambda_variable', 'abs', 'acos', 'acosh', 'add_months', 'aggregate', 'approxCountDistinct', 'approx_count_distinct', 'array', 'array_contains', 'array_distinct', 'array_except', 'array_intersect', 'array_join', 'array_max', 'array_min', 'array_position', 'array_remove', 'array_repeat', 'array_sort', 'array_union', 'arrays_overlap', 'arrays_zip', 'asc', 'asc_nulls_first', 'asc_nulls_last', 'ascii', 'asin', 'asinh', 'assert_true', 'atan', 'atan2', 'atanh', 'avg', 'base64', 'bin', 'bitwiseNOT', 'broadcast', 'bround', 'bucket', 'cbrt', 'ceil', 'coalesce', 'col', 'collect_list', 'collect_set', 'column', 'concat', 'concat_ws', 'conv', 'corr', 'cos', 'cosh', 'count', 'countDistinct', 'covar_pop', 'covar_samp', 'crc32', 'create_map', 'cume_dist', 'current_date', 'current_timestamp', 'date_add', 'date_format', 'date_sub', 'date_trunc', 'datediff', 'dayofmonth', 'dayofweek', 'dayofyear', 'days', 'decode', 'degrees', 'dense_rank', 'desc', 'desc_nulls_first', 'desc_nulls_last', 'element_at', 'encode', 'exists', 'exp', 'explode', 'explode_outer', 'expm1', 'expr', 'factorial', 'filter', 'first', 'flatten', 'floor', 'forall', 'format_number', 'format_string', 'from_csv', 'from_json', 'from_unixtime', 'from_utc_timestamp', 'functools', 'get_json_object', 'greatest', 'grouping', 'grouping_id', 'hash', 'hex', 'hour', 'hours', 'hypot', 'initcap', 'input_file_name', 'instr', 'isnan', 'isnull', 'json_tuple', 'kurtosis', 'lag', 'last', 'last_day', 'lead', 'least', 'length', 'levenshtein', 'lit', 'locate', 'log', 'log10', 'log1p', 'log2', 'lower', 'lpad', 'ltrim', 'map_concat', 'map_entries', 'map_filter', 'map_from_arrays', 'map_from_entries', 'map_keys', 'map_values', 'map_zip_with', 'max', 'md5', 'mean', 'min', 'minute', 'monotonically_increasing_id', 'month', 'months', 'months_between', 'nanvl', 'next_day', 'nth_value', 'ntile', 'overlay', 'pandas_udf', 'percent_rank', 'percentile_approx', 'posexplode', 'posexplode_outer', 'pow', 'quarter', 'radians', 'raise_error', 'rand', 'randn', 'rank', 'regexp_extract', 'regexp_replace', 'repeat', 'reverse', 'rint', 'round', 'row_number', 'rpad', 'rtrim', 'schema_of_csv', 'schema_of_json', 'second', 'sequence', 'sha1', 'sha2', 'shiftLeft', 'shiftRight', 'shiftRightUnsigned', 'shuffle', 'signum', 'sin', 'since', 'sinh', 'size', 'skewness', 'slice', 'sort_array', 'soundex', 'spark_partition_id', 'split', 'sqrt', 'stddev', 'stddev_pop', 'stddev_samp', 'struct', 'substring', 'substring_index', 'sum', 'sumDistinct', 'sys', 'tan', 'tanh', 'timestamp_seconds', 'toDegrees', 'toRadians', 'to_csv', 'to_date', 'to_json', 'to_str', 'to_timestamp', 'to_utc_timestamp', 'transform', 'transform_keys', 'transform_values', 'translate', 'trim', 'trunc', 'udf', 'unbase64', 'unhex', 'unix_timestamp', 'upper', 'var_pop', 'var_samp', 'variance', 'warnings', 'weekofyear', 'when', 'window', 'xxhash64', 'year', 'years', 'zip_with']\n"
          ],
          "name": "stdout"
        }
      ]
    },
    {
      "cell_type": "markdown",
      "metadata": {
        "id": "b48cIX1hgbK3"
      },
      "source": [
        "## String functions\n",
        "Display the Primary Type column in lower and upper characters, and the first 4 characters of the column "
      ]
    },
    {
      "cell_type": "code",
      "metadata": {
        "colab": {
          "base_uri": "https://localhost:8080/"
        },
        "id": "assPQHa6gE1P",
        "outputId": "6a5ed1b2-87eb-498e-c674-534b62b3c22b"
      },
      "source": [
        "from pyspark.sql.functions import lower, upper, substring\n",
        "\n",
        "help(substring)"
      ],
      "execution_count": 32,
      "outputs": [
        {
          "output_type": "stream",
          "text": [
            "Help on function substring in module pyspark.sql.functions:\n",
            "\n",
            "substring(str, pos, len)\n",
            "    Substring starts at `pos` and is of length `len` when str is String type or\n",
            "    returns the slice of byte array that starts at `pos` in byte and is of length `len`\n",
            "    when str is Binary type.\n",
            "    \n",
            "    .. versionadded:: 1.5.0\n",
            "    \n",
            "    Notes\n",
            "    -----\n",
            "    The position is not zero based, but 1 based index.\n",
            "    \n",
            "    Examples\n",
            "    --------\n",
            "    >>> df = spark.createDataFrame([('abcd',)], ['s',])\n",
            "    >>> df.select(substring(df.s, 1, 2).alias('s')).collect()\n",
            "    [Row(s='ab')]\n",
            "\n"
          ],
          "name": "stdout"
        }
      ]
    },
    {
      "cell_type": "code",
      "metadata": {
        "colab": {
          "base_uri": "https://localhost:8080/"
        },
        "id": "6HyguYrhg3Uu",
        "outputId": "a1038ab3-2d22-4ad8-d9f6-4b03fe6de9b5"
      },
      "source": [
        "rc.select(lower(col('Primary Type')), upper(col('Primary Type')), substring(col('Primary Type'), 1, 4)).show(5)"
      ],
      "execution_count": 33,
      "outputs": [
        {
          "output_type": "stream",
          "text": [
            "+-------------------+-------------------+-----------------------------+\n",
            "|lower(Primary Type)|upper(Primary Type)|substring(Primary Type, 1, 4)|\n",
            "+-------------------+-------------------+-----------------------------+\n",
            "|            battery|            BATTERY|                         BATT|\n",
            "|              theft|              THEFT|                         THEF|\n",
            "|              theft|              THEFT|                         THEF|\n",
            "|          narcotics|          NARCOTICS|                         NARC|\n",
            "|            assault|            ASSAULT|                         ASSA|\n",
            "+-------------------+-------------------+-----------------------------+\n",
            "only showing top 5 rows\n",
            "\n"
          ],
          "name": "stdout"
        }
      ]
    },
    {
      "cell_type": "markdown",
      "metadata": {
        "id": "fD9JBA4ahdqt"
      },
      "source": [
        "## Numeric functions\n",
        "Show the oldest data and the most recent ones"
      ]
    },
    {
      "cell_type": "code",
      "metadata": {
        "id": "sezCDmp9hUtx"
      },
      "source": [
        "from pyspark.sql.functions import min, max, mean, avg"
      ],
      "execution_count": 34,
      "outputs": []
    },
    {
      "cell_type": "code",
      "metadata": {
        "colab": {
          "base_uri": "https://localhost:8080/"
        },
        "id": "uSpLLvX2huBU",
        "outputId": "811e63f0-2daf-4052-d621-3f78ee3b2751"
      },
      "source": [
        "rc.select(min(col('Date')), max(col('Date')), mean(col('Date')), avg(col('Date'))).show()"
      ],
      "execution_count": 35,
      "outputs": [
        {
          "output_type": "stream",
          "text": [
            "+-------------------+-------------------+--------------------+--------------------+\n",
            "|          min(Date)|          max(Date)|           avg(Date)|           avg(Date)|\n",
            "+-------------------+-------------------+--------------------+--------------------+\n",
            "|2001-01-01 00:00:00|2018-11-11 00:00:00|1.2253079273278348E9|1.2253079273278348E9|\n",
            "+-------------------+-------------------+--------------------+--------------------+\n",
            "\n"
          ],
          "name": "stdout"
        }
      ]
    },
    {
      "cell_type": "markdown",
      "metadata": {
        "id": "GttPirioiIVb"
      },
      "source": [
        "## Date \n",
        "What is 3 days earlier that the oldest date and 3 days later than the most recent date?"
      ]
    },
    {
      "cell_type": "code",
      "metadata": {
        "colab": {
          "base_uri": "https://localhost:8080/"
        },
        "id": "TDrXSstxingW",
        "outputId": "acfd6ec3-a534-459d-a3b5-cb9891a3052b"
      },
      "source": [
        "from pyspark.sql.functions import date_add, date_sub\n",
        "\n",
        "rc.select(date_add(max('Date'), 3), date_sub(min('Date'), 3)).show()"
      ],
      "execution_count": 36,
      "outputs": [
        {
          "output_type": "stream",
          "text": [
            "+----------------------+----------------------+\n",
            "|date_add(max(Date), 3)|date_sub(min(Date), 3)|\n",
            "+----------------------+----------------------+\n",
            "|            2018-11-14|            2000-12-29|\n",
            "+----------------------+----------------------+\n",
            "\n"
          ],
          "name": "stdout"
        }
      ]
    },
    {
      "cell_type": "markdown",
      "metadata": {
        "id": "6s_nYRgijXWO"
      },
      "source": [
        "__Side note__: it seems that the \"col\" isn't needed anymore in Spark version 3, because the above code runs fine. In Spark version 2.4 it used to be :"
      ]
    },
    {
      "cell_type": "code",
      "metadata": {
        "colab": {
          "base_uri": "https://localhost:8080/"
        },
        "id": "IgsxRcJTjDK3",
        "outputId": "b8cbe22d-5e5a-4348-df47-4f9d362139fd"
      },
      "source": [
        "rc.select(date_add(max(col('Date')), 3), date_sub(min(col('Date')), 3)).show()"
      ],
      "execution_count": 37,
      "outputs": [
        {
          "output_type": "stream",
          "text": [
            "+----------------------+----------------------+\n",
            "|date_add(max(Date), 3)|date_sub(min(Date), 3)|\n",
            "+----------------------+----------------------+\n",
            "|            2018-11-14|            2000-12-29|\n",
            "+----------------------+----------------------+\n",
            "\n"
          ],
          "name": "stdout"
        }
      ]
    },
    {
      "cell_type": "markdown",
      "metadata": {
        "id": "iye-JbF2kEp3"
      },
      "source": [
        "## Working with Dates & Timestamps\n"
      ]
    },
    {
      "cell_type": "code",
      "metadata": {
        "colab": {
          "base_uri": "https://localhost:8080/"
        },
        "id": "cFDbQIzsjUkf",
        "outputId": "470a8ea3-64f3-4431-e632-985633fb8b6b"
      },
      "source": [
        "from pyspark.sql.functions import to_date, to_timestamp, lit\n",
        "\n",
        "df = spark.createDataFrame([('1969-12-25 12:30:00', )], ['Christmas'])\n",
        "df.show()\n",
        "df.select(to_date(col('Christmas'), 'yyyy-MM-dd HH:mm:ss'), to_timestamp(col('Christmas'), 'yyyy-MM-dd HH:mm:ss')).show()"
      ],
      "execution_count": 38,
      "outputs": [
        {
          "output_type": "stream",
          "text": [
            "+-------------------+\n",
            "|          Christmas|\n",
            "+-------------------+\n",
            "|1969-12-25 12:30:00|\n",
            "+-------------------+\n",
            "\n",
            "+---------------------------------------+--------------------------------------------+\n",
            "|to_date(Christmas, yyyy-MM-dd HH:mm:ss)|to_timestamp(Christmas, yyyy-MM-dd HH:mm:ss)|\n",
            "+---------------------------------------+--------------------------------------------+\n",
            "|                             1969-12-25|                         1969-12-25 12:30:00|\n",
            "+---------------------------------------+--------------------------------------------+\n",
            "\n"
          ],
          "name": "stdout"
        }
      ]
    },
    {
      "cell_type": "code",
      "metadata": {
        "colab": {
          "base_uri": "https://localhost:8080/"
        },
        "id": "Yzd6P3vMlWWu",
        "outputId": "37e561bf-4b14-4b2c-cb13-b14dba74661e"
      },
      "source": [
        "df = spark.createDataFrame([('25/Dec/1969 12:30:00', )], ['Christmas'])\n",
        "df.show()\n",
        "df.select(to_date(col('Christmas'), 'dd/MMM/yyyy HH:mm:ss'), to_timestamp(col('Christmas'), 'dd/MMM/yyyy HH:mm:ss')).show()"
      ],
      "execution_count": 39,
      "outputs": [
        {
          "output_type": "stream",
          "text": [
            "+--------------------+\n",
            "|           Christmas|\n",
            "+--------------------+\n",
            "|25/Dec/1969 12:30:00|\n",
            "+--------------------+\n",
            "\n",
            "+----------------------------------------+---------------------------------------------+\n",
            "|to_date(Christmas, dd/MMM/yyyy HH:mm:ss)|to_timestamp(Christmas, dd/MMM/yyyy HH:mm:ss)|\n",
            "+----------------------------------------+---------------------------------------------+\n",
            "|                              1969-12-25|                          1969-12-25 12:30:00|\n",
            "+----------------------------------------+---------------------------------------------+\n",
            "\n"
          ],
          "name": "stdout"
        }
      ]
    },
    {
      "cell_type": "code",
      "metadata": {
        "colab": {
          "base_uri": "https://localhost:8080/"
        },
        "id": "kXnHHORJlubH",
        "outputId": "9c6f2fb6-0548-48b4-a1e4-0bca031badcc"
      },
      "source": [
        "df = spark.createDataFrame([('12/25/1969 01:30:00 PM', )], ['Christmas'])\n",
        "df.show(1, truncate=False)\n",
        "df.select(to_date(col('Christmas'), 'MM/dd/yyyy hh:mm:ss a'), to_timestamp(col('Christmas'), 'MM/dd/yyyy hh:mm:ss a')).show()"
      ],
      "execution_count": 40,
      "outputs": [
        {
          "output_type": "stream",
          "text": [
            "+----------------------+\n",
            "|Christmas             |\n",
            "+----------------------+\n",
            "|12/25/1969 01:30:00 PM|\n",
            "+----------------------+\n",
            "\n",
            "+-----------------------------------------+----------------------------------------------+\n",
            "|to_date(Christmas, MM/dd/yyyy hh:mm:ss a)|to_timestamp(Christmas, MM/dd/yyyy hh:mm:ss a)|\n",
            "+-----------------------------------------+----------------------------------------------+\n",
            "|                               1969-12-25|                           1969-12-25 13:30:00|\n",
            "+-----------------------------------------+----------------------------------------------+\n",
            "\n"
          ],
          "name": "stdout"
        }
      ]
    },
    {
      "cell_type": "markdown",
      "metadata": {
        "id": "S5e7IGu1pGHQ"
      },
      "source": [
        "# User-Defined-Functions UDF\n",
        "You can create your own functions in Java, Scala, Python and R or SQL. Built-in functions are more performant. With UDF Spark needs to serialize functions on the driver and then sent it out to all of the executors processes.\n",
        "\n",
        "Scala and Java can be used in the JVM: it means there is little performance penalty \n",
        "\n",
        "In Python, Spark will start a process on the worker. Spark uses Py4j to launch a JVM and create a java Spark Context / Session. The Python process and the JVM can be in competition for ressources on the worker node, so there can be performance penalty in this case.\n",
        "\n",
        "__Options__\n",
        "- For performance, write functions in Scala or Java. You can still access and use this functions from Python.\n",
        "\n",
        "- See the Apache Arrow project.\n",
        "\n",
        "# Joins\n",
        "\n",
        "Download police station data, to join the 2 tables together and then use the police station dataset to lookup the associate district number from our original report crime dataframe.\n",
        "\n",
        "https://data.cityofchicago.org/Public-Safety/Police-Stations/z8bn-74gv"
      ]
    },
    {
      "cell_type": "code",
      "metadata": {
        "colab": {
          "base_uri": "https://localhost:8080/"
        },
        "id": "1WfbgjcDmXqL",
        "outputId": "2de73c82-1066-4468-f3b7-cdf57e7a7d71"
      },
      "source": [
        "!wget -O police-station.csv https://data.cityofchicago.org/api/views/z8bn-74gv/rows.csv?accessType=DOWNLOAD"
      ],
      "execution_count": 41,
      "outputs": [
        {
          "output_type": "stream",
          "text": [
            "--2021-05-04 09:01:01--  https://data.cityofchicago.org/api/views/z8bn-74gv/rows.csv?accessType=DOWNLOAD\n",
            "Resolving data.cityofchicago.org (data.cityofchicago.org)... 52.206.140.205, 52.206.140.199, 52.206.68.26\n",
            "Connecting to data.cityofchicago.org (data.cityofchicago.org)|52.206.140.205|:443... connected.\n",
            "HTTP request sent, awaiting response... 200 OK\n",
            "Length: unspecified [text/csv]\n",
            "Saving to: ‘police-station.csv’\n",
            "\n",
            "police-station.csv      [ <=>                ]   5.57K  --.-KB/s    in 0s      \n",
            "\n",
            "2021-05-04 09:01:02 (182 MB/s) - ‘police-station.csv’ saved [5699]\n",
            "\n"
          ],
          "name": "stdout"
        }
      ]
    },
    {
      "cell_type": "code",
      "metadata": {
        "colab": {
          "base_uri": "https://localhost:8080/"
        },
        "id": "JLB4wjYporTg",
        "outputId": "d0ecb3d6-a81b-46e1-9346-8cfdf0c246da"
      },
      "source": [
        "ps = spark.read.csv('police-station.csv', header=True)\n",
        "ps.select('DISTRICT', 'DISTRICT NAME', 'ADDRESS', 'CITY', 'STATE').show(3)"
      ],
      "execution_count": 43,
      "outputs": [
        {
          "output_type": "stream",
          "text": [
            "+------------+-------------+-------------------+-------+-----+\n",
            "|    DISTRICT|DISTRICT NAME|            ADDRESS|   CITY|STATE|\n",
            "+------------+-------------+-------------------+-------+-----+\n",
            "|Headquarters| Headquarters|3510 S Michigan Ave|Chicago|   IL|\n",
            "|          18|   Near North| 1160 N Larrabee St|Chicago|   IL|\n",
            "|          19|    Town Hall|   850 W Addison St|Chicago|   IL|\n",
            "+------------+-------------+-------------------+-------+-----+\n",
            "only showing top 3 rows\n",
            "\n"
          ],
          "name": "stdout"
        }
      ]
    },
    {
      "cell_type": "markdown",
      "metadata": {
        "id": "jrXrr6VCynz_"
      },
      "source": [
        "The reported crimes dataset has only the disctrict number. Add the disctrict name by joining with the police station dataset."
      ]
    },
    {
      "cell_type": "code",
      "metadata": {
        "colab": {
          "base_uri": "https://localhost:8080/"
        },
        "id": "Ms2ZCjHAyoXF",
        "outputId": "2803f545-d79a-40e1-ab46-592687d36c6f"
      },
      "source": [
        "rc.cache()\n",
        "rc.count()"
      ],
      "execution_count": 44,
      "outputs": [
        {
          "output_type": "execute_result",
          "data": {
            "text/plain": [
              "6754265"
            ]
          },
          "metadata": {
            "tags": []
          },
          "execution_count": 44
        }
      ]
    },
    {
      "cell_type": "markdown",
      "metadata": {
        "id": "aLMtM4AqzXbc"
      },
      "source": [
        "Also they are referencing the same distrinct number, in a dataset there is a leading zero while not in the other dataframe..."
      ]
    },
    {
      "cell_type": "code",
      "metadata": {
        "colab": {
          "base_uri": "https://localhost:8080/"
        },
        "id": "dYrrU97myoSM",
        "outputId": "68114fa8-de16-42e5-8b6f-bce9f2075e9e"
      },
      "source": [
        "ps.select(col('DISTRICT')).distinct().show(3)\n",
        "rc.select(col('District')).distinct().show(3)"
      ],
      "execution_count": 45,
      "outputs": [
        {
          "output_type": "stream",
          "text": [
            "+--------+\n",
            "|DISTRICT|\n",
            "+--------+\n",
            "|       7|\n",
            "|      15|\n",
            "|      11|\n",
            "+--------+\n",
            "only showing top 3 rows\n",
            "\n",
            "+--------+\n",
            "|District|\n",
            "+--------+\n",
            "|     009|\n",
            "|     012|\n",
            "|     024|\n",
            "+--------+\n",
            "only showing top 3 rows\n",
            "\n"
          ],
          "name": "stdout"
        }
      ]
    },
    {
      "cell_type": "markdown",
      "metadata": {
        "id": "wDxD_LAV0882"
      },
      "source": [
        "Let's see how to have not only the district number but also the district name using a left join :"
      ]
    },
    {
      "cell_type": "code",
      "metadata": {
        "colab": {
          "base_uri": "https://localhost:8080/"
        },
        "id": "HVp8uNEVyoM4",
        "outputId": "b56d9ce5-8e39-4ad1-a6e4-1597de697440"
      },
      "source": [
        "from pyspark.sql.functions import lpad\n",
        "\n",
        "#ps.select(lpad(col('DISTRICT'), 3, '0')).show(2)\n",
        "ps = ps.withColumn('Format_district', lpad(col('DISTRICT'), 3, '0'))\n",
        "rc.join(ps, rc.District == ps.Format_district, 'left_outer')"
      ],
      "execution_count": 46,
      "outputs": [
        {
          "output_type": "execute_result",
          "data": {
            "text/plain": [
              "DataFrame[ID: string, Case Number: string, Date: timestamp, Block: string, Primary Type: string, Description: string, Location Description: string, Arrest: string, Domestic: string, Beat: string, District: string, Ward: string, Community Area: string, FBI Code: string, X Coordinate: string, Y Coordinate: string, Year: string, Updated On: string, Latitude: string, Longitude: string, Location: string, DISTRICT: string, DISTRICT NAME: string, ADDRESS: string, CITY: string, STATE: string, ZIP: string, WEBSITE: string, PHONE: string, FAX: string, TTY: string, X COORDINATE: string, Y COORDINATE: string, LATITUDE: string, LONGITUDE: string, LOCATION: string, Format_district: string]"
            ]
          },
          "metadata": {
            "tags": []
          },
          "execution_count": 46
        }
      ]
    },
    {
      "cell_type": "markdown",
      "metadata": {
        "id": "6m0mB5Z512j9"
      },
      "source": [
        "Let's drop all columns of the police station dataset except the two relatives to disctricts..."
      ]
    },
    {
      "cell_type": "code",
      "metadata": {
        "colab": {
          "base_uri": "https://localhost:8080/"
        },
        "id": "AYcHxi__11jc",
        "outputId": "1ed78973-176b-4b89-a928-a10018b679ab"
      },
      "source": [
        "[x for x in ps.columns if 'DISTRICT' not in x]"
      ],
      "execution_count": 47,
      "outputs": [
        {
          "output_type": "execute_result",
          "data": {
            "text/plain": [
              "['ADDRESS',\n",
              " 'CITY',\n",
              " 'STATE',\n",
              " 'ZIP',\n",
              " 'WEBSITE',\n",
              " 'PHONE',\n",
              " 'FAX',\n",
              " 'TTY',\n",
              " 'X COORDINATE',\n",
              " 'Y COORDINATE',\n",
              " 'LATITUDE',\n",
              " 'LONGITUDE',\n",
              " 'LOCATION',\n",
              " 'Format_district']"
            ]
          },
          "metadata": {
            "tags": []
          },
          "execution_count": 47
        }
      ]
    },
    {
      "cell_type": "code",
      "metadata": {
        "colab": {
          "base_uri": "https://localhost:8080/"
        },
        "id": "NRaw9nK8tBWg",
        "outputId": "fd26808c-4989-4a91-e91c-65cb3c790707"
      },
      "source": [
        "rc.drop('ADDRESS', 'CITY', 'STATE', 'ZIP', 'WEBSITE', 'PHONE', 'FAX', 'TTY', 'X COORDINATE', 'Y COORDINATE', 'LATITUDE', 'LONGITUDE', 'LOCATION', 'Format_district').show(2)"
      ],
      "execution_count": 48,
      "outputs": [
        {
          "output_type": "stream",
          "text": [
            "+--------+-----------+-------------------+-------------------+------------+--------------------+--------------------+------+--------+----+--------+----+--------------+--------+----+--------------------+\n",
            "|      ID|Case Number|               Date|              Block|Primary Type|         Description|Location Description|Arrest|Domestic|Beat|District|Ward|Community Area|FBI Code|Year|          Updated On|\n",
            "+--------+-----------+-------------------+-------------------+------------+--------------------+--------------------+------+--------+----+--------+----+--------------+--------+----+--------------------+\n",
            "|10224738|   HY411648|2015-09-05 13:30:00|    043XX S WOOD ST|     BATTERY|DOMESTIC BATTERY ...|           RESIDENCE| false|    true|0924|     009|  12|            61|     08B|2015|02/10/2018 03:50:...|\n",
            "|10224739|   HY411615|2015-09-04 11:30:00|008XX N CENTRAL AVE|       THEFT|      POCKET-PICKING|             CTA BUS| false|   false|1511|     015|  29|            25|      06|2015|02/10/2018 03:50:...|\n",
            "+--------+-----------+-------------------+-------------------+------------+--------------------+--------------------+------+--------+----+--------+----+--------------+--------+----+--------------------+\n",
            "only showing top 2 rows\n",
            "\n"
          ],
          "name": "stdout"
        }
      ]
    },
    {
      "cell_type": "markdown",
      "metadata": {
        "id": "tfKeFozK3cFr"
      },
      "source": [
        "Find the most frequently reported non criminal activity"
      ]
    },
    {
      "cell_type": "code",
      "metadata": {
        "colab": {
          "base_uri": "https://localhost:8080/"
        },
        "id": "59A-p9FU1k0H",
        "outputId": "11b7d02f-8619-45fb-f0ee-e96e687e3032"
      },
      "source": [
        "rc.select('Primary Type').distinct().orderBy(col('Primary Type')).show(40, truncate=False)"
      ],
      "execution_count": 49,
      "outputs": [
        {
          "output_type": "stream",
          "text": [
            "+---------------------------------+\n",
            "|Primary Type                     |\n",
            "+---------------------------------+\n",
            "|ARSON                            |\n",
            "|ASSAULT                          |\n",
            "|BATTERY                          |\n",
            "|BURGLARY                         |\n",
            "|CONCEALED CARRY LICENSE VIOLATION|\n",
            "|CRIM SEXUAL ASSAULT              |\n",
            "|CRIMINAL DAMAGE                  |\n",
            "|CRIMINAL SEXUAL ASSAULT          |\n",
            "|CRIMINAL TRESPASS                |\n",
            "|DECEPTIVE PRACTICE               |\n",
            "|DOMESTIC VIOLENCE                |\n",
            "|GAMBLING                         |\n",
            "|HOMICIDE                         |\n",
            "|HUMAN TRAFFICKING                |\n",
            "|INTERFERENCE WITH PUBLIC OFFICER |\n",
            "|INTIMIDATION                     |\n",
            "|KIDNAPPING                       |\n",
            "|LIQUOR LAW VIOLATION             |\n",
            "|MOTOR VEHICLE THEFT              |\n",
            "|NARCOTICS                        |\n",
            "|NON - CRIMINAL                   |\n",
            "|NON-CRIMINAL                     |\n",
            "|NON-CRIMINAL (SUBJECT SPECIFIED) |\n",
            "|OBSCENITY                        |\n",
            "|OFFENSE INVOLVING CHILDREN       |\n",
            "|OTHER NARCOTIC VIOLATION         |\n",
            "|OTHER OFFENSE                    |\n",
            "|PROSTITUTION                     |\n",
            "|PUBLIC INDECENCY                 |\n",
            "|PUBLIC PEACE VIOLATION           |\n",
            "|RITUALISM                        |\n",
            "|ROBBERY                          |\n",
            "|SEX OFFENSE                      |\n",
            "|STALKING                         |\n",
            "|THEFT                            |\n",
            "|WEAPONS VIOLATION                |\n",
            "+---------------------------------+\n",
            "\n"
          ],
          "name": "stdout"
        }
      ]
    },
    {
      "cell_type": "code",
      "metadata": {
        "id": "W6uWt1pw3kTk"
      },
      "source": [
        "rc.filter(col('Primary Type') == 'NON-CRIMINAL (SUBJECT SPECIFIED)').count()"
      ],
      "execution_count": null,
      "outputs": []
    },
    {
      "cell_type": "code",
      "metadata": {
        "id": "kYt8vSmw3kQA"
      },
      "source": [
        "rc.filter(col('Primary Type') == 'NON-CRIMINAL').count()"
      ],
      "execution_count": null,
      "outputs": []
    },
    {
      "cell_type": "code",
      "metadata": {
        "id": "hK13X1Vw6YsW"
      },
      "source": [
        "rc.filter((col('Primary Type') == 'NON-CRIMINAL') || (col('Primary Type') == 'NON-CRIMINAL (SUBJECT SPECIFIED)')).count()"
      ],
      "execution_count": null,
      "outputs": []
    },
    {
      "cell_type": "code",
      "metadata": {
        "id": "hH2ogjbv43Im"
      },
      "source": [
        "rc.filter(\"Primary Type == 'NON-CRIMINAL (SUBJECT SPECIFIED)' | Primary Type == 'NON-CRIMINAL('\").count()"
      ],
      "execution_count": null,
      "outputs": []
    },
    {
      "cell_type": "code",
      "metadata": {
        "id": "tLXKSg79bpi2"
      },
      "source": [
        ""
      ],
      "execution_count": null,
      "outputs": []
    },
    {
      "cell_type": "code",
      "metadata": {
        "colab": {
          "base_uri": "https://localhost:8080/"
        },
        "id": "lClqu_N9bpgD",
        "outputId": "b7dd18ef-f8d1-4b16-945f-d94ee00973c4"
      },
      "source": [
        "nc = rc.filter ( (col('Primary Type') == 'NON - CRIMINAL') | (col('Primary Type') == 'NON-CRIMINAL') | (col('Primary Type') == 'NON-CRIMINAL (SUBJECT SPECIFIED)P') )\n",
        "nc.select(col('Primary Type'), col('Description')).show(10)"
      ],
      "execution_count": 51,
      "outputs": [
        {
          "output_type": "stream",
          "text": [
            "+--------------+-----------------+\n",
            "|  Primary Type|      Description|\n",
            "+--------------+-----------------+\n",
            "|NON - CRIMINAL|FOID - REVOCATION|\n",
            "|NON - CRIMINAL|FOID - REVOCATION|\n",
            "|  NON-CRIMINAL|    LOST PASSPORT|\n",
            "|NON - CRIMINAL|FOID - REVOCATION|\n",
            "|  NON-CRIMINAL|    LOST PASSPORT|\n",
            "|  NON-CRIMINAL|    LOST PASSPORT|\n",
            "|NON - CRIMINAL|FOID - REVOCATION|\n",
            "|  NON-CRIMINAL|    LOST PASSPORT|\n",
            "|  NON-CRIMINAL|    LOST PASSPORT|\n",
            "|NON - CRIMINAL|FOID - REVOCATION|\n",
            "+--------------+-----------------+\n",
            "only showing top 10 rows\n",
            "\n"
          ],
          "name": "stdout"
        }
      ]
    },
    {
      "cell_type": "code",
      "metadata": {
        "colab": {
          "base_uri": "https://localhost:8080/"
        },
        "id": "WhNAby9jbpRc",
        "outputId": "8568d332-f850-4228-84f5-17985efb2871"
      },
      "source": [
        "nc.groupBy(col('Description')).count().orderBy('count', ascending=False).show(truncate=False)"
      ],
      "execution_count": 52,
      "outputs": [
        {
          "output_type": "stream",
          "text": [
            "+-------------------------------------------+-----+\n",
            "|Description                                |count|\n",
            "+-------------------------------------------+-----+\n",
            "|LOST PASSPORT                              |107  |\n",
            "|FOID - REVOCATION                          |75   |\n",
            "|NOTIFICATION OF STALKING - NO CONTACT ORDER|8    |\n",
            "|CONCEALED CARRY LICENSE REVOCATION         |4    |\n",
            "|FOUND PASSPORT                             |4    |\n",
            "|GUN OFFENDER NOTIFICATION-NO CONTACT       |3    |\n",
            "+-------------------------------------------+-----+\n",
            "\n"
          ],
          "name": "stdout"
        }
      ]
    },
    {
      "cell_type": "markdown",
      "metadata": {
        "id": "VQSyTfyI3k09"
      },
      "source": [
        "Find the day of the week with the most reported crime"
      ]
    },
    {
      "cell_type": "code",
      "metadata": {
        "id": "wWOB739-3kNx"
      },
      "source": [
        "https://github.com/ernest-kiwele/chicago-crime-analysis-apache-spark/blob/master/spark-ml/chicago-crime-data-on-spark.ipynb"
      ],
      "execution_count": null,
      "outputs": []
    },
    {
      "cell_type": "code",
      "metadata": {
        "id": "eZO3P4OW82NB"
      },
      "source": [
        "https://datascienceplus.com/spark-dataframes-exploring-chicago-crimes/"
      ],
      "execution_count": null,
      "outputs": []
    },
    {
      "cell_type": "code",
      "metadata": {
        "id": "iMOoHhmk86ZI",
        "colab": {
          "base_uri": "https://localhost:8080/"
        },
        "outputId": "d9f87470-ddf4-4897-c083-a3ca2f5177d7"
      },
      "source": [
        "from pyspark.sql.functions import dayofweek, date_format\n",
        "rc.select(col('Date'), dayofweek(col('Date')), date_format(col('Date'), 'E')).show(3)"
      ],
      "execution_count": 53,
      "outputs": [
        {
          "output_type": "stream",
          "text": [
            "+-------------------+---------------+--------------------+\n",
            "|               Date|dayofweek(Date)|date_format(Date, E)|\n",
            "+-------------------+---------------+--------------------+\n",
            "|2015-09-05 13:30:00|              7|                 Sat|\n",
            "|2015-09-04 11:30:00|              6|                 Fri|\n",
            "|2018-09-01 00:01:00|              7|                 Sat|\n",
            "+-------------------+---------------+--------------------+\n",
            "only showing top 3 rows\n",
            "\n"
          ],
          "name": "stdout"
        }
      ]
    },
    {
      "cell_type": "code",
      "metadata": {
        "colab": {
          "base_uri": "https://localhost:8080/"
        },
        "id": "Gj8XdODlecZO",
        "outputId": "3294e60b-a24e-4e0c-ea28-908f5cf2d918"
      },
      "source": [
        "rc.groupBy(date_format(col('Date'), 'E')).count().orderBy('count', ascending=False).show(truncate=False)"
      ],
      "execution_count": 54,
      "outputs": [
        {
          "output_type": "stream",
          "text": [
            "+--------------------+-------+\n",
            "|date_format(Date, E)|count  |\n",
            "+--------------------+-------+\n",
            "|Fri                 |1017109|\n",
            "|Wed                 |974022 |\n",
            "|Tue                 |968168 |\n",
            "|Sat                 |965303 |\n",
            "|Thu                 |964701 |\n",
            "|Mon                 |952866 |\n",
            "|Sun                 |912096 |\n",
            "+--------------------+-------+\n",
            "\n"
          ],
          "name": "stdout"
        }
      ]
    },
    {
      "cell_type": "code",
      "metadata": {
        "colab": {
          "base_uri": "https://localhost:8080/"
        },
        "id": "4JJ8hk_fffJL",
        "outputId": "fa9f5b16-e540-4e19-d14d-f2fd30e754dc"
      },
      "source": [
        "infos = rc.groupBy(date_format(col('Date'), 'E')).count().collect()\n",
        "infos"
      ],
      "execution_count": 55,
      "outputs": [
        {
          "output_type": "execute_result",
          "data": {
            "text/plain": [
              "[Row(date_format(Date, E)='Sun', count=912096),\n",
              " Row(date_format(Date, E)='Mon', count=952866),\n",
              " Row(date_format(Date, E)='Thu', count=964701),\n",
              " Row(date_format(Date, E)='Sat', count=965303),\n",
              " Row(date_format(Date, E)='Wed', count=974022),\n",
              " Row(date_format(Date, E)='Fri', count=1017109),\n",
              " Row(date_format(Date, E)='Tue', count=968168)]"
            ]
          },
          "metadata": {
            "tags": []
          },
          "execution_count": 55
        }
      ]
    },
    {
      "cell_type": "code",
      "metadata": {
        "colab": {
          "base_uri": "https://localhost:8080/"
        },
        "id": "DdOBvFcNgkJs",
        "outputId": "0a5f00ce-883a-4dcc-e4a0-291462c8b11e"
      },
      "source": [
        "days_of_week = [x[0] for x in infos ]\n",
        "days_of_week\n",
        "cnt = [x[1] for x in infos ]\n",
        "cnt"
      ],
      "execution_count": 56,
      "outputs": [
        {
          "output_type": "execute_result",
          "data": {
            "text/plain": [
              "[912096, 952866, 964701, 965303, 974022, 1017109, 968168]"
            ]
          },
          "metadata": {
            "tags": []
          },
          "execution_count": 56
        }
      ]
    },
    {
      "cell_type": "code",
      "metadata": {
        "colab": {
          "base_uri": "https://localhost:8080/",
          "height": 195
        },
        "id": "0k5K3xDzgx8Y",
        "outputId": "f0b42a98-c721-4c59-f4a0-b53377785d8c"
      },
      "source": [
        "import pandas as pd\n",
        "import matplotlib.pyplot as plt\n",
        "\n",
        "cp = pd.DataFrame({'Day of Week': days_of_week, 'Count': cnt})\n",
        "cp.head()"
      ],
      "execution_count": 57,
      "outputs": [
        {
          "output_type": "execute_result",
          "data": {
            "text/html": [
              "<div>\n",
              "<style scoped>\n",
              "    .dataframe tbody tr th:only-of-type {\n",
              "        vertical-align: middle;\n",
              "    }\n",
              "\n",
              "    .dataframe tbody tr th {\n",
              "        vertical-align: top;\n",
              "    }\n",
              "\n",
              "    .dataframe thead th {\n",
              "        text-align: right;\n",
              "    }\n",
              "</style>\n",
              "<table border=\"1\" class=\"dataframe\">\n",
              "  <thead>\n",
              "    <tr style=\"text-align: right;\">\n",
              "      <th></th>\n",
              "      <th>Day of Week</th>\n",
              "      <th>Count</th>\n",
              "    </tr>\n",
              "  </thead>\n",
              "  <tbody>\n",
              "    <tr>\n",
              "      <th>0</th>\n",
              "      <td>Sun</td>\n",
              "      <td>912096</td>\n",
              "    </tr>\n",
              "    <tr>\n",
              "      <th>1</th>\n",
              "      <td>Mon</td>\n",
              "      <td>952866</td>\n",
              "    </tr>\n",
              "    <tr>\n",
              "      <th>2</th>\n",
              "      <td>Thu</td>\n",
              "      <td>964701</td>\n",
              "    </tr>\n",
              "    <tr>\n",
              "      <th>3</th>\n",
              "      <td>Sat</td>\n",
              "      <td>965303</td>\n",
              "    </tr>\n",
              "    <tr>\n",
              "      <th>4</th>\n",
              "      <td>Wed</td>\n",
              "      <td>974022</td>\n",
              "    </tr>\n",
              "  </tbody>\n",
              "</table>\n",
              "</div>"
            ],
            "text/plain": [
              "  Day of Week   Count\n",
              "0         Sun  912096\n",
              "1         Mon  952866\n",
              "2         Thu  964701\n",
              "3         Sat  965303\n",
              "4         Wed  974022"
            ]
          },
          "metadata": {
            "tags": []
          },
          "execution_count": 57
        }
      ]
    },
    {
      "cell_type": "code",
      "metadata": {
        "colab": {
          "base_uri": "https://localhost:8080/",
          "height": 324
        },
        "id": "R1mLBuCihU9e",
        "outputId": "8a0a5776-9cd7-4d63-d7bf-8086576336d4"
      },
      "source": [
        "cp.sort_values('Count', ascending=False).plot(kind='bar', x='Day of Week', y='Count', color='olive')\n",
        "plt.xlabel('Day of Week')\n",
        "plt.ylabel('No. of reported crimes')\n",
        "plt.title('No. of reported crimes per day of the week from 2001 to present')"
      ],
      "execution_count": 58,
      "outputs": [
        {
          "output_type": "execute_result",
          "data": {
            "text/plain": [
              "Text(0.5, 1.0, 'No. of reported crimes per day of the week from 2001 to present')"
            ]
          },
          "metadata": {
            "tags": []
          },
          "execution_count": 58
        },
        {
          "output_type": "display_data",
          "data": {
            "image/png": "[encoded data removed]",
            "text/plain": [
              "<Figure size 432x288 with 1 Axes>"
            ]
          },
          "metadata": {
            "tags": [],
            "needs_background": "light"
          }
        }
      ]
    },
    {
      "cell_type": "markdown",
      "metadata": {
        "id": "JY3pF4W9rAxA"
      },
      "source": [
        "# RDD - Resilient Distributed Dataset\n",
        "Every code compiles down to RDDs which are immutable partitions of records that can be worked in parallel. It means RDD are Scala, Java or Python objects.\n",
        "\n",
        "Spark doesn't understant the inner structure of your record. You'll need to manually recreate any optimizations.\n",
        "\n",
        "__Performance__ :\n",
        "\n",
        "- Similar to running user-defined functions row by row\n",
        "- Python and Scala DF have similar performances\n",
        " \n",
        " It's recommend to stick with the high level API in spark and use RDD only when necessary.\n",
        "\n",
        " When to use RDDs:\n",
        "\n",
        " - For control over the physical distribution and partitioning of data\n",
        " - When maintaining a legacy codebase writtent using RDDs\n"
      ]
    },
    {
      "cell_type": "code",
      "metadata": {
        "colab": {
          "base_uri": "https://localhost:8080/"
        },
        "id": "-CGBa1oxsgwt",
        "outputId": "a2fcfb4f-cd80-4cbf-f842-ac56c2adf37f"
      },
      "source": [
        "ps_header = ps.first()\n",
        "ps_header"
      ],
      "execution_count": 62,
      "outputs": [
        {
          "output_type": "execute_result",
          "data": {
            "text/plain": [
              "Row(DISTRICT='Headquarters', DISTRICT NAME='Headquarters', ADDRESS='3510 S Michigan Ave', CITY='Chicago', STATE='IL', ZIP='60653', WEBSITE='http://home.chicagopolice.org', PHONE=None, FAX=None, TTY=None, X COORDINATE='1177731.401', Y COORDINATE='1881697.404', LATITUDE='41.83070169', LONGITUDE='-87.62339535', LOCATION='(41.8307016873, -87.6233953459)', Format_district='Hea')"
            ]
          },
          "metadata": {
            "tags": []
          },
          "execution_count": 62
        }
      ]
    },
    {
      "cell_type": "code",
      "metadata": {
        "colab": {
          "base_uri": "https://localhost:8080/"
        },
        "id": "-i7-DYtpsgtr",
        "outputId": "627a397a-c084-4ad2-ca14-cf0aa3ba5223"
      },
      "source": [
        "ps_rest = ps.rdd.filter(lambda line: line != ps_header)\n",
        "ps_rest.first()"
      ],
      "execution_count": 63,
      "outputs": [
        {
          "output_type": "execute_result",
          "data": {
            "text/plain": [
              "Row(DISTRICT='18', DISTRICT NAME='Near North', ADDRESS='1160 N Larrabee St', CITY='Chicago', STATE='IL', ZIP='60610', WEBSITE='http://home.chicagopolice.org/community/districts/18th-district-near-north/', PHONE='312-742-5870', FAX='312-742-5771', TTY='312-742-5773', X COORDINATE='1172080.029', Y COORDINATE='1908086.527', LATITUDE='41.90324165', LONGITUDE='-87.64335214', LOCATION='(41.9032416531, -87.6433521393)', Format_district='018')"
            ]
          },
          "metadata": {
            "tags": []
          },
          "execution_count": 63
        }
      ]
    },
    {
      "cell_type": "markdown",
      "metadata": {
        "id": "jjyNacW6tAYB"
      },
      "source": [
        "How many police stations are there?"
      ]
    },
    {
      "cell_type": "code",
      "metadata": {
        "id": "62_E_WWUut66"
      },
      "source": [
        "ps_rest.map(lambda line: line.split(',')).collect()\n",
        "ps_rest.map(lambda line: line.split(',')).count()"
      ],
      "execution_count": null,
      "outputs": []
    },
    {
      "cell_type": "markdown",
      "metadata": {
        "id": "N2zgdCwDu0-z"
      },
      "source": [
        "Display the Disctrict ID, District name, Address and Zip for the plice station with District ID 7"
      ]
    },
    {
      "cell_type": "code",
      "metadata": {
        "id": "ZM6KGe1wut3r"
      },
      "source": [
        "# zip is column nb 5 (starting from 0)\n",
        "(ps_rest.filter(lambda line: line.split(',')[0] == 7)).\n",
        "  map(lambda line: (line.split('')[0],\n",
        "                    line.split('')[1],\n",
        "                    line.split('')[2],\n",
        "                    line.split('')[5]\n",
        "                    )).collect()"
      ],
      "execution_count": null,
      "outputs": []
    },
    {
      "cell_type": "markdown",
      "metadata": {
        "id": "v1hnGoN0vjmJ"
      },
      "source": [
        "Police staztions 10 and 11 are geographically close to each other. Display the Disctrict ID, District name, adress and zip code."
      ]
    },
    {
      "cell_type": "code",
      "metadata": {
        "id": "qqq764GjutsQ"
      },
      "source": [
        " ps_rest.filter(lambda line: line.split(',')[0] in ['10', '11']).\n",
        "  map(lambda line: (line.split(',')[1]\n",
        "                    line.split(',')[2],\n",
        "                    line.split(',')[5])).collect()"
      ],
      "execution_count": null,
      "outputs": []
    },
    {
      "cell_type": "code",
      "metadata": {
        "id": "Xoqrhc9SsXGz"
      },
      "source": [
        ""
      ],
      "execution_count": 60,
      "outputs": []
    }
  ]
}